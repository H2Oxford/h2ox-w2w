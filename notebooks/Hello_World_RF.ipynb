{
 "cells": [
  {
   "cell_type": "code",
   "execution_count": 1,
   "id": "b896e4ea",
   "metadata": {},
   "outputs": [],
   "source": [
    "import pandas as pd"
   ]
  },
  {
   "cell_type": "code",
   "execution_count": 16,
   "id": "c70c0c48",
   "metadata": {},
   "outputs": [],
   "source": [
    "import numpy as np"
   ]
  },
  {
   "cell_type": "code",
   "execution_count": 2,
   "id": "ed4dc0e9",
   "metadata": {},
   "outputs": [],
   "source": [
    "import os, glob"
   ]
  },
  {
   "cell_type": "code",
   "execution_count": 3,
   "id": "777c1e03",
   "metadata": {},
   "outputs": [],
   "source": [
    "root = os.path.abspath(os.path.join(os.getcwd(),'..'))"
   ]
  },
  {
   "cell_type": "code",
   "execution_count": 51,
   "id": "68e164ba",
   "metadata": {},
   "outputs": [],
   "source": [
    "fs = glob.glob(os.path.join(root,'wave2web_data','*12x3*.csv'))"
   ]
  },
  {
   "cell_type": "code",
   "execution_count": 52,
   "id": "1dfe9441",
   "metadata": {},
   "outputs": [
    {
     "data": {
      "text/plain": [
       "['/home/jupyter/era5-gcp/wave2web_data/Kabini_12x3mo_split.csv',\n",
       " '/home/jupyter/era5-gcp/wave2web_data/Hemavathy_12x3mo_split.csv',\n",
       " '/home/jupyter/era5-gcp/wave2web_data/Harangi_12x3mo_split.csv',\n",
       " '/home/jupyter/era5-gcp/wave2web_data/Krisharaja Sagar_12x3mo_split.csv']"
      ]
     },
     "execution_count": 52,
     "metadata": {},
     "output_type": "execute_result"
    }
   ],
   "source": [
    "fs"
   ]
  },
  {
   "cell_type": "code",
   "execution_count": 53,
   "id": "d611fcbc",
   "metadata": {},
   "outputs": [],
   "source": [
    "dfs = {os.path.splitext(os.path.split(f)[1])[0].split('_')[0]:pd.read_csv(f).set_index('Unnamed: 0') for f in fs}"
   ]
  },
  {
   "cell_type": "code",
   "execution_count": 54,
   "id": "030c15b8",
   "metadata": {},
   "outputs": [],
   "source": [
    "for kk in dfs.keys():\n",
    "    dfs[kk].index = pd.to_datetime(dfs[kk].index)"
   ]
  },
  {
   "cell_type": "code",
   "execution_count": 55,
   "id": "df35a593",
   "metadata": {},
   "outputs": [],
   "source": [
    "# build targets\n",
    "for kk in dfs.keys():\n",
    "    dfs[kk]['Y'] = dfs[kk]['PRESENT_STORAGE_TMC']\n",
    "    for ii in range(5,60,5):\n",
    "        dfs[kk][f'Y_{ii+1}'] = dfs[kk]['PRESENT_STORAGE_TMC'].shift(ii)"
   ]
  },
  {
   "cell_type": "code",
   "execution_count": 56,
   "id": "b9efe951",
   "metadata": {},
   "outputs": [],
   "source": [
    "# add lagged feature\n",
    "windows = [5,15,30,60,100]\n",
    "for kk in dfs.keys():\n",
    "    for window in windows:\n",
    "        for variable in ['tp','t2m']:\n",
    "            dfs[kk][f'lag_{variable}_{window}'] = dfs[kk][variable].rolling(window).mean()"
   ]
  },
  {
   "cell_type": "code",
   "execution_count": null,
   "id": "0f7daa16",
   "metadata": {},
   "outputs": [],
   "source": [
    "# add day-of-year feature\n"
   ]
  },
  {
   "cell_type": "code",
   "execution_count": 28,
   "id": "6881281e",
   "metadata": {},
   "outputs": [
    {
     "data": {
      "text/plain": [
       "['1_d', '1_b', '2_d', '2_b']"
      ]
     },
     "execution_count": 28,
     "metadata": {},
     "output_type": "execute_result"
    }
   ],
   "source": [
    "[f'{x}_{y}' for x in ['1','2'] for y in ['d','b']]"
   ]
  },
  {
   "cell_type": "code",
   "execution_count": 29,
   "id": "69562424",
   "metadata": {},
   "outputs": [
    {
     "data": {
      "text/plain": [
       "array([27, 18, 28,  5, 37])"
      ]
     },
     "execution_count": 29,
     "metadata": {},
     "output_type": "execute_result"
    }
   ],
   "source": [
    "np.random.choice(50,5)"
   ]
  },
  {
   "cell_type": "code",
   "execution_count": 11,
   "id": "12d9e1e9",
   "metadata": {},
   "outputs": [
    {
     "data": {
      "text/plain": [
       "dict_keys(['Kabini', 'Hemavathy', 'Harangi', 'Krisharaja Sagar'])"
      ]
     },
     "execution_count": 11,
     "metadata": {},
     "output_type": "execute_result"
    }
   ],
   "source": [
    "dfs.keys()"
   ]
  },
  {
   "cell_type": "code",
   "execution_count": 19,
   "id": "dc3d64b5",
   "metadata": {},
   "outputs": [],
   "source": [
    "for kk in dfs.keys():\n",
    "    dfs[kk]['sin_dayofyear']=np.sin((dfs[kk].index.dayofyear - 1)/365*2*np.pi)"
   ]
  },
  {
   "cell_type": "code",
   "execution_count": 34,
   "id": "c6e444e7",
   "metadata": {},
   "outputs": [],
   "source": [
    "a = {'b':4,'d':6}"
   ]
  },
  {
   "cell_type": "code",
   "execution_count": 36,
   "id": "6a2da1a0",
   "metadata": {},
   "outputs": [
    {
     "data": {
      "text/plain": [
       "dict_values([4, 6])"
      ]
     },
     "execution_count": 36,
     "metadata": {},
     "output_type": "execute_result"
    }
   ],
   "source": [
    "a.values()"
   ]
  },
  {
   "cell_type": "code",
   "execution_count": 40,
   "id": "675b0164",
   "metadata": {},
   "outputs": [],
   "source": [
    "from datetime import timedelta, datetime"
   ]
  },
  {
   "cell_type": "code",
   "execution_count": 41,
   "id": "371e8ee4",
   "metadata": {},
   "outputs": [],
   "source": [
    "now = datetime.now()"
   ]
  },
  {
   "cell_type": "code",
   "execution_count": null,
   "id": "2f0e9f3e",
   "metadata": {},
   "outputs": [],
   "source": []
  },
  {
   "cell_type": "code",
   "execution_count": 63,
   "id": "a1a4cbe4",
   "metadata": {},
   "outputs": [
    {
     "data": {
      "text/plain": [
       "array([[0.15384615, 0.14102564, 0.12820513, 0.11538462, 0.1025641 ,\n",
       "        0.08974359, 0.07692308, 0.06410256, 0.05128205, 0.03846154,\n",
       "        0.02564103, 0.01282051],\n",
       "       [0.15384615, 0.14102564, 0.12820513, 0.11538462, 0.1025641 ,\n",
       "        0.08974359, 0.07692308, 0.06410256, 0.05128205, 0.03846154,\n",
       "        0.02564103, 0.01282051],\n",
       "       [0.15384615, 0.14102564, 0.12820513, 0.11538462, 0.1025641 ,\n",
       "        0.08974359, 0.07692308, 0.06410256, 0.05128205, 0.03846154,\n",
       "        0.02564103, 0.01282051],\n",
       "       [0.15384615, 0.14102564, 0.12820513, 0.11538462, 0.1025641 ,\n",
       "        0.08974359, 0.07692308, 0.06410256, 0.05128205, 0.03846154,\n",
       "        0.02564103, 0.01282051],\n",
       "       [0.15384615, 0.14102564, 0.12820513, 0.11538462, 0.1025641 ,\n",
       "        0.08974359, 0.07692308, 0.06410256, 0.05128205, 0.03846154,\n",
       "        0.02564103, 0.01282051],\n",
       "       [0.15384615, 0.14102564, 0.12820513, 0.11538462, 0.1025641 ,\n",
       "        0.08974359, 0.07692308, 0.06410256, 0.05128205, 0.03846154,\n",
       "        0.02564103, 0.01282051],\n",
       "       [0.15384615, 0.14102564, 0.12820513, 0.11538462, 0.1025641 ,\n",
       "        0.08974359, 0.07692308, 0.06410256, 0.05128205, 0.03846154,\n",
       "        0.02564103, 0.01282051],\n",
       "       [0.15384615, 0.14102564, 0.12820513, 0.11538462, 0.1025641 ,\n",
       "        0.08974359, 0.07692308, 0.06410256, 0.05128205, 0.03846154,\n",
       "        0.02564103, 0.01282051],\n",
       "       [0.15384615, 0.14102564, 0.12820513, 0.11538462, 0.1025641 ,\n",
       "        0.08974359, 0.07692308, 0.06410256, 0.05128205, 0.03846154,\n",
       "        0.02564103, 0.01282051],\n",
       "       [0.15384615, 0.14102564, 0.12820513, 0.11538462, 0.1025641 ,\n",
       "        0.08974359, 0.07692308, 0.06410256, 0.05128205, 0.03846154,\n",
       "        0.02564103, 0.01282051],\n",
       "       [0.15384615, 0.14102564, 0.12820513, 0.11538462, 0.1025641 ,\n",
       "        0.08974359, 0.07692308, 0.06410256, 0.05128205, 0.03846154,\n",
       "        0.02564103, 0.01282051],\n",
       "       [0.15384615, 0.14102564, 0.12820513, 0.11538462, 0.1025641 ,\n",
       "        0.08974359, 0.07692308, 0.06410256, 0.05128205, 0.03846154,\n",
       "        0.02564103, 0.01282051],\n",
       "       [0.15384615, 0.14102564, 0.12820513, 0.11538462, 0.1025641 ,\n",
       "        0.08974359, 0.07692308, 0.06410256, 0.05128205, 0.03846154,\n",
       "        0.02564103, 0.01282051],\n",
       "       [0.15384615, 0.14102564, 0.12820513, 0.11538462, 0.1025641 ,\n",
       "        0.08974359, 0.07692308, 0.06410256, 0.05128205, 0.03846154,\n",
       "        0.02564103, 0.01282051],\n",
       "       [0.15384615, 0.14102564, 0.12820513, 0.11538462, 0.1025641 ,\n",
       "        0.08974359, 0.07692308, 0.06410256, 0.05128205, 0.03846154,\n",
       "        0.02564103, 0.01282051],\n",
       "       [0.15384615, 0.14102564, 0.12820513, 0.11538462, 0.1025641 ,\n",
       "        0.08974359, 0.07692308, 0.06410256, 0.05128205, 0.03846154,\n",
       "        0.02564103, 0.01282051],\n",
       "       [0.15384615, 0.14102564, 0.12820513, 0.11538462, 0.1025641 ,\n",
       "        0.08974359, 0.07692308, 0.06410256, 0.05128205, 0.03846154,\n",
       "        0.02564103, 0.01282051],\n",
       "       [0.15384615, 0.14102564, 0.12820513, 0.11538462, 0.1025641 ,\n",
       "        0.08974359, 0.07692308, 0.06410256, 0.05128205, 0.03846154,\n",
       "        0.02564103, 0.01282051],\n",
       "       [0.15384615, 0.14102564, 0.12820513, 0.11538462, 0.1025641 ,\n",
       "        0.08974359, 0.07692308, 0.06410256, 0.05128205, 0.03846154,\n",
       "        0.02564103, 0.01282051],\n",
       "       [0.15384615, 0.14102564, 0.12820513, 0.11538462, 0.1025641 ,\n",
       "        0.08974359, 0.07692308, 0.06410256, 0.05128205, 0.03846154,\n",
       "        0.02564103, 0.01282051],\n",
       "       [0.15384615, 0.14102564, 0.12820513, 0.11538462, 0.1025641 ,\n",
       "        0.08974359, 0.07692308, 0.06410256, 0.05128205, 0.03846154,\n",
       "        0.02564103, 0.01282051],\n",
       "       [0.15384615, 0.14102564, 0.12820513, 0.11538462, 0.1025641 ,\n",
       "        0.08974359, 0.07692308, 0.06410256, 0.05128205, 0.03846154,\n",
       "        0.02564103, 0.01282051],\n",
       "       [0.15384615, 0.14102564, 0.12820513, 0.11538462, 0.1025641 ,\n",
       "        0.08974359, 0.07692308, 0.06410256, 0.05128205, 0.03846154,\n",
       "        0.02564103, 0.01282051],\n",
       "       [0.15384615, 0.14102564, 0.12820513, 0.11538462, 0.1025641 ,\n",
       "        0.08974359, 0.07692308, 0.06410256, 0.05128205, 0.03846154,\n",
       "        0.02564103, 0.01282051],\n",
       "       [0.15384615, 0.14102564, 0.12820513, 0.11538462, 0.1025641 ,\n",
       "        0.08974359, 0.07692308, 0.06410256, 0.05128205, 0.03846154,\n",
       "        0.02564103, 0.01282051],\n",
       "       [0.15384615, 0.14102564, 0.12820513, 0.11538462, 0.1025641 ,\n",
       "        0.08974359, 0.07692308, 0.06410256, 0.05128205, 0.03846154,\n",
       "        0.02564103, 0.01282051],\n",
       "       [0.15384615, 0.14102564, 0.12820513, 0.11538462, 0.1025641 ,\n",
       "        0.08974359, 0.07692308, 0.06410256, 0.05128205, 0.03846154,\n",
       "        0.02564103, 0.01282051],\n",
       "       [0.15384615, 0.14102564, 0.12820513, 0.11538462, 0.1025641 ,\n",
       "        0.08974359, 0.07692308, 0.06410256, 0.05128205, 0.03846154,\n",
       "        0.02564103, 0.01282051],\n",
       "       [0.15384615, 0.14102564, 0.12820513, 0.11538462, 0.1025641 ,\n",
       "        0.08974359, 0.07692308, 0.06410256, 0.05128205, 0.03846154,\n",
       "        0.02564103, 0.01282051],\n",
       "       [0.15384615, 0.14102564, 0.12820513, 0.11538462, 0.1025641 ,\n",
       "        0.08974359, 0.07692308, 0.06410256, 0.05128205, 0.03846154,\n",
       "        0.02564103, 0.01282051],\n",
       "       [0.15384615, 0.14102564, 0.12820513, 0.11538462, 0.1025641 ,\n",
       "        0.08974359, 0.07692308, 0.06410256, 0.05128205, 0.03846154,\n",
       "        0.02564103, 0.01282051],\n",
       "       [0.15384615, 0.14102564, 0.12820513, 0.11538462, 0.1025641 ,\n",
       "        0.08974359, 0.07692308, 0.06410256, 0.05128205, 0.03846154,\n",
       "        0.02564103, 0.01282051]])"
      ]
     },
     "execution_count": 63,
     "metadata": {},
     "output_type": "execute_result"
    }
   ],
   "source": [
    "np.stack([np.arange(12,0,-1)/np.arange(12,0,-1).sum()]*32)"
   ]
  },
  {
   "cell_type": "code",
   "execution_count": 61,
   "id": "c73ea767",
   "metadata": {},
   "outputs": [
    {
     "data": {
      "text/plain": [
       "datetime.datetime(2021, 7, 25, 14, 7, 43, 145169)"
      ]
     },
     "execution_count": 61,
     "metadata": {},
     "output_type": "execute_result"
    }
   ],
   "source": [
    "now"
   ]
  },
  {
   "cell_type": "code",
   "execution_count": 43,
   "id": "9bfb1517",
   "metadata": {},
   "outputs": [
    {
     "data": {
      "text/plain": [
       "1627222063.145169"
      ]
     },
     "execution_count": 43,
     "metadata": {},
     "output_type": "execute_result"
    }
   ],
   "source": [
    "now.timestamp()"
   ]
  },
  {
   "cell_type": "code",
   "execution_count": 60,
   "id": "6d56fa6d",
   "metadata": {},
   "outputs": [
    {
     "data": {
      "text/plain": [
       "DatetimeIndex(['2011-11-01', '2013-03-01', '2015-12-01', '2017-01-01',\n",
       "               '2018-03-01', '2020-02-01'],\n",
       "              dtype='datetime64[ns]', name='Unnamed: 0', freq=None)"
      ]
     },
     "execution_count": 60,
     "metadata": {},
     "output_type": "execute_result"
    }
   ],
   "source": [
    "dfs['Kabini'].loc[(dfs['Kabini']['segment']=='val') & (dfs['Kabini']['segment']!=dfs['Kabini']['segment'].shift(1)),'segment'].index"
   ]
  },
  {
   "cell_type": "code",
   "execution_count": 39,
   "id": "1283e7c4",
   "metadata": {},
   "outputs": [
    {
     "data": {
      "text/plain": [
       "[datetime.timedelta(0),\n",
       " datetime.timedelta(days=1),\n",
       " datetime.timedelta(days=2),\n",
       " datetime.timedelta(days=3),\n",
       " datetime.timedelta(days=4),\n",
       " datetime.timedelta(days=5),\n",
       " datetime.timedelta(days=6),\n",
       " datetime.timedelta(days=7),\n",
       " datetime.timedelta(days=8),\n",
       " datetime.timedelta(days=9)]"
      ]
     },
     "execution_count": 39,
     "metadata": {},
     "output_type": "execute_result"
    }
   ],
   "source": [
    "[timedelta(days=ii) for ii in range(10)]"
   ]
  },
  {
   "cell_type": "code",
   "execution_count": 33,
   "id": "ac75cee2",
   "metadata": {},
   "outputs": [
    {
     "data": {
      "text/plain": [
       "Unnamed: 0\n",
       "2010-01-01    True\n",
       "2010-01-02    True\n",
       "2010-01-03    True\n",
       "2010-01-04    True\n",
       "2010-01-05    True\n",
       "              ... \n",
       "2020-12-26    True\n",
       "2020-12-27    True\n",
       "2020-12-28    True\n",
       "2020-12-29    True\n",
       "2020-12-30    True\n",
       "Length: 4017, dtype: bool"
      ]
     },
     "execution_count": 33,
     "metadata": {},
     "output_type": "execute_result"
    }
   ],
   "source": [
    "~pd.isna(dfs['Kabini'][[f'tp_{ii}' for ii in range(15)]]).any(axis=1)"
   ]
  },
  {
   "cell_type": "code",
   "execution_count": 26,
   "id": "c5a76eb7",
   "metadata": {},
   "outputs": [
    {
     "data": {
      "text/plain": [
       "<AxesSubplot:xlabel='Unnamed: 0'>"
      ]
     },
     "execution_count": 26,
     "metadata": {},
     "output_type": "execute_result"
    },
    {
     "data": {
      "image/png": "[encoded data removed]",
      "text/plain": [
       "<Figure size 432x288 with 1 Axes>"
      ]
     },
     "metadata": {
      "needs_background": "light"
     },
     "output_type": "display_data"
    }
   ],
   "source": [
    "((dfs['Kabini']['t2m']-dfs['Kabini']['t2m'].mean())/dfs['Kabini']['t2m'].std()).plot()"
   ]
  },
  {
   "cell_type": "code",
   "execution_count": null,
   "id": "08602536",
   "metadata": {},
   "outputs": [],
   "source": []
  }
 ],
 "metadata": {
  "environment": {
   "name": "pytorch-gpu.1-9.m75",
   "type": "gcloud",
   "uri": "gcr.io/deeplearning-platform-release/pytorch-gpu.1-9:m75"
  },
  "kernelspec": {
   "display_name": "Python 3",
   "language": "python",
   "name": "python3"
  },
  "language_info": {
   "codemirror_mode": {
    "name": "ipython",
    "version": 3
   },
   "file_extension": ".py",
   "mimetype": "text/x-python",
   "name": "python",
   "nbconvert_exporter": "python",
   "pygments_lexer": "ipython3",
   "version": "3.7.10"
  }
 },
 "nbformat": 4,
 "nbformat_minor": 5
}
